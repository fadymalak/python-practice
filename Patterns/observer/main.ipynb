{
 "cells": [
  {
   "cell_type": "markdown",
   "metadata": {},
   "source": [
    "# Observer Pattern\n",
    "\n",
    "### subject -> attach / detach / notify\n",
    "### observer -> update / "
   ]
  },
  {
   "cell_type": "code",
   "execution_count": 2,
   "metadata": {},
   "outputs": [],
   "source": [
    "from abc import ABC , ABCMeta , abstractmethod\n",
    "\n",
    "class Observer(ABC):\n",
    "    _subject = None\n",
    "\n",
    "    @abstractmethod\n",
    "    def update(self):\n",
    "        pass\n",
    "\n",
    "    def __enter__(self):\n",
    "        return self\n",
    "\n",
    "    @abstractmethod\n",
    "    def __exit__(self,*args,**kwargs):\n",
    "        pass\n",
    "\n",
    "class ABSubject(object):\n",
    "    __metaclass__ = ABCMeta\n",
    "    _observers = set()\n",
    "    \n",
    "    def attach(self,observer:Observer):\n",
    "        if isinstance(observer,Observer):\n",
    "            self._observers |= {observer}\n",
    "\n",
    "    def detach(self,observer:Observer):\n",
    "        if isinstance(observer,Observer):\n",
    "            self._observers -= {observer}\n",
    "\n",
    "    def notify(self):\n",
    "        for observer in self._observers:\n",
    "            observer.update()\n",
    "\n",
    "    def __enter__(self):\n",
    "        return self\n",
    "    \n",
    "    def __exit__(self,*args,**kwargs):\n",
    "        self._observers.clear()"
   ]
  },
  {
   "cell_type": "code",
   "execution_count": 3,
   "metadata": {},
   "outputs": [],
   "source": [
    "class Subject(ABSubject):\n",
    "    def __init__(self):\n",
    "        self._phones = 0\n",
    "\n",
    "\n",
    "    @property\n",
    "    def phones(self):\n",
    "        return self._phones\n",
    "\n",
    "\n",
    "    def logic(self,phones):\n",
    "        \n",
    "        self._phones += phones\n",
    "        self.notify()\n",
    "\n",
    "class MailObserver(Observer):\n",
    "    def __init__(self,subject):\n",
    "        self.phones = 0\n",
    "        self._subject= subject\n",
    "        subject.attach(self)\n",
    "\n",
    "\n",
    "    def update(self):\n",
    "        print(\"received notification \")\n",
    "        self.phones = self._subject.phones\n",
    "\n",
    "    def __exit__(self,*args,**kwargs):\n",
    "        self._subject.detach(self)"
   ]
  },
  {
   "cell_type": "code",
   "execution_count": 17,
   "metadata": {},
   "outputs": [
    {
     "name": "stdout",
     "output_type": "stream",
     "text": [
      "<__main__.Subject object at 0x00000264D1C3C7C0>\n",
      "set()\n",
      "received notification \n"
     ]
    }
   ],
   "source": [
    "#Bug lapsed Listener Problem \n",
    "#create ABSubject fully abstracted to fix bug\n",
    "subject = Subject()\n",
    "print(subject)\n",
    "print(subject._observers)\n",
    "mail = MailObserver(subject)\n",
    "subject.logic(1)"
   ]
  },
  {
   "cell_type": "code",
   "execution_count": 16,
   "metadata": {},
   "outputs": [
    {
     "name": "stdout",
     "output_type": "stream",
     "text": [
      "received notification \n"
     ]
    }
   ],
   "source": [
    "#define context manager fixing bug\n",
    "with Subject() as subject:\n",
    "    with MailObserver(subject):\n",
    "        subject.logic(1)"
   ]
  },
  {
   "cell_type": "code",
   "execution_count": null,
   "metadata": {},
   "outputs": [],
   "source": []
  }
 ],
 "metadata": {
  "interpreter": {
   "hash": "6a702d81204ac13ad4a89c07c79003dccfe5361e4440129b746839d7a8224ed7"
  },
  "kernelspec": {
   "display_name": "Python 3.10.1 64-bit",
   "language": "python",
   "name": "python3"
  },
  "language_info": {
   "codemirror_mode": {
    "name": "ipython",
    "version": 3
   },
   "file_extension": ".py",
   "mimetype": "text/x-python",
   "name": "python",
   "nbconvert_exporter": "python",
   "pygments_lexer": "ipython3",
   "version": "3.10.1"
  },
  "orig_nbformat": 4
 },
 "nbformat": 4,
 "nbformat_minor": 2
}
