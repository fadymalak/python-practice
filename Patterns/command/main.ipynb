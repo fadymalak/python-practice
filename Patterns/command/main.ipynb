{
 "cells": [
  {
   "cell_type": "markdown",
   "metadata": {},
   "source": [
    "# python\n",
    "## Command Pattern\n",
    "#### uses\n"
   ]
  },
  {
   "cell_type": "code",
   "execution_count": 16,
   "metadata": {},
   "outputs": [],
   "source": [
    "from abc import ABC ,ABCMeta , abstractmethod\n",
    "\n",
    "class Invoker:\n",
    "    \"\"\"\n",
    "    Act as Client \n",
    "    \"\"\"\n",
    "    _on_start = None \n",
    "    _on_stop = None\n",
    "\n",
    "    def set_on_start(self,command):\n",
    "        self._on_start = command\n",
    "\n",
    "    def set_on_stop(self,command):\n",
    "        self._on_stop = command\n",
    "\n",
    "    def start_process(self):\n",
    "        print(\"Invoker Started\")\n",
    "        \n",
    "        if isinstance(self._on_start,Command):\n",
    "            self._on_start.execute()\n",
    "\n",
    "        if isinstance(self._on_stop,Command):\n",
    "            self._on_stop.execute()\n",
    "\n",
    "        print(\"Invoker Finished\")\n",
    "\n",
    "class Command(ABC):\n",
    "    @abstractmethod\n",
    "    def execute(self):\n",
    "        pass\n",
    "\n",
    "\n",
    "class Receiver:\n",
    "    \n",
    "    def execute_a(self,a):\n",
    "        print(f\"executing {a}\")\n",
    "\n",
    "    def execute_b(self,b):\n",
    "        print(f\"executing {b}\")\n",
    "\n"
   ]
  },
  {
   "cell_type": "code",
   "execution_count": 7,
   "metadata": {},
   "outputs": [
    {
     "name": "stdout",
     "output_type": "stream",
     "text": [
      "Hello Button Class Alert1\n"
     ]
    }
   ],
   "source": [
    "class AlertButtonCommand(Command):\n",
    "    def __init__(self,payload):\n",
    "        self._payload = payload  #protected variable\n",
    "    def execute(self):\n",
    "        print(f\"Hello Button Class {self._payload}\")\n",
    "\n",
    "AlertButtonCommand(\"Alert1\").execute()\n",
    "\n"
   ]
  },
  {
   "cell_type": "code",
   "execution_count": 17,
   "metadata": {},
   "outputs": [
    {
     "name": "stdout",
     "output_type": "stream",
     "text": [
      "Invoker Started\n",
      "start execute ComplexCommand\n",
      "executing a\n",
      "start execute ComplexCommand\n",
      "executing y\n",
      "Invoker Finished\n"
     ]
    }
   ],
   "source": [
    "class ComplexCommand(Command):\n",
    "    def __init__(self,*args,**kwargs):\n",
    "        self._receiver = args[0]\n",
    "        self._a = args[1]\n",
    "        self._b = args[2]\n",
    "\n",
    "    def execute(self):\n",
    "        print(\"start execute ComplexCommand\")\n",
    "        if self._receiver is not None :\n",
    "            self._receiver.execute_a(self._a)\n",
    "\n",
    "invoker = Invoker()\n",
    "receiver = Receiver()\n",
    "invoker.set_on_start(ComplexCommand(receiver,\"a\",\"b\"))\n",
    "invoker.set_on_stop(ComplexCommand(receiver,\"y\",\"z\"))\n",
    "invoker.start_process()\n"
   ]
  },
  {
   "cell_type": "code",
   "execution_count": null,
   "metadata": {},
   "outputs": [],
   "source": []
  }
 ],
 "metadata": {
  "interpreter": {
   "hash": "6a702d81204ac13ad4a89c07c79003dccfe5361e4440129b746839d7a8224ed7"
  },
  "kernelspec": {
   "display_name": "Python 3.10.1 64-bit",
   "language": "python",
   "name": "python3"
  },
  "language_info": {
   "codemirror_mode": {
    "name": "ipython",
    "version": 3
   },
   "file_extension": ".py",
   "mimetype": "text/x-python",
   "name": "python",
   "nbconvert_exporter": "python",
   "pygments_lexer": "ipython3",
   "version": "3.10.1"
  },
  "orig_nbformat": 4
 },
 "nbformat": 4,
 "nbformat_minor": 2
}
