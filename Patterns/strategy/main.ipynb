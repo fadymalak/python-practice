{
 "cells": [
  {
   "cell_type": "markdown",
   "metadata": {},
   "source": [
    "# Strategy Pattern\n",
    "### 1- obey O in SOLID\n",
    "### 2- encapsulate alogrithms \n",
    "### 3- make algorithns interchangable\n",
    "\n"
   ]
  },
  {
   "cell_type": "code",
   "execution_count": 9,
   "metadata": {},
   "outputs": [],
   "source": [
    "from abc import ABC , abstractmethod\n",
    "\n",
    "class AbstractStratgy(ABC):\n",
    "\n",
    "    @abstractmethod\n",
    "    def calculate(self):\n",
    "        pass\n",
    "\n",
    "class ShippingCost(object):\n",
    "    def __init__(self,company):\n",
    "        self._company = company\n",
    "        \n",
    "\n",
    "    def shipping_cost(self,weight):\n",
    "        if hasattr(self._company,\"calculate\"):\n",
    "            #for class based Stratgy\n",
    "            return self._company.calculate(weight) +  2\n",
    "        else :\n",
    "            #for function based Stratgy\n",
    "            return self._company(weight)"
   ]
  },
  {
   "cell_type": "code",
   "execution_count": 11,
   "metadata": {},
   "outputs": [
    {
     "name": "stdout",
     "output_type": "stream",
     "text": [
      "12\n"
     ]
    }
   ],
   "source": [
    "class FedxShipping(AbstractStratgy):\n",
    "    \n",
    "    def calculate(self,weight):\n",
    "        return 5 * weight\n",
    "\n",
    "fedx = FedxShipping()\n",
    "shipping = ShippingCost(fedx)\n",
    "print(shipping.shipping_cost(weight=2))"
   ]
  },
  {
   "cell_type": "markdown",
   "metadata": {},
   "source": [
    "### python function are first-class object \n",
    "#### so we can use function instead of class in stratgy pattern\n"
   ]
  },
  {
   "cell_type": "code",
   "execution_count": 12,
   "metadata": {},
   "outputs": [
    {
     "name": "stdout",
     "output_type": "stream",
     "text": [
      "15\n"
     ]
    }
   ],
   "source": [
    "def FedxShippingFunc(weight):\n",
    "    return 5 * weight\n",
    "\n",
    "fedx = FedxShippingFunc\n",
    "shipping = ShippingCost(fedx)\n",
    "print(shipping.shipping_cost(weight=3))"
   ]
  },
  {
   "cell_type": "code",
   "execution_count": null,
   "metadata": {},
   "outputs": [],
   "source": []
  }
 ],
 "metadata": {
  "interpreter": {
   "hash": "6a702d81204ac13ad4a89c07c79003dccfe5361e4440129b746839d7a8224ed7"
  },
  "kernelspec": {
   "display_name": "Python 3.10.1 64-bit",
   "language": "python",
   "name": "python3"
  },
  "language_info": {
   "codemirror_mode": {
    "name": "ipython",
    "version": 3
   },
   "file_extension": ".py",
   "mimetype": "text/x-python",
   "name": "python",
   "nbconvert_exporter": "python",
   "pygments_lexer": "ipython3",
   "version": "3.10.1"
  },
  "orig_nbformat": 4
 },
 "nbformat": 4,
 "nbformat_minor": 2
}
